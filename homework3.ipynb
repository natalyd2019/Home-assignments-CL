{
 "cells": [
  {
   "cell_type": "markdown",
   "metadata": {
    "colab_type": "text",
    "id": "hAgT52fP26V2"
   },
   "source": [
    "# homework3 - Транслитератор"
   ]
  },
  {
   "cell_type": "markdown",
   "metadata": {
    "colab_type": "text",
    "id": "cUiYXrAi3MMe"
   },
   "source": [
    "с помощью словаря создайте простой транслитератор: нужно, чтобы программа принимала с клавиатуры (у нас есть специальный оператор ввода с клавиатуры) слова, записанные кириллицей, и печатала результат латиницей. \n",
    "\n",
    "Пример: *собака >> sobaka*"
   ]
  },
  {
   "cell_type": "markdown",
   "metadata": {},
   "source": [
    "создаю переменную, в нее записываю ввод - input(). создаю словарь. В нем ключом является буква русского алфавита, а значением - буква \n",
    "латинского. Создаю цикл и пробегаю все элементы словаря. В цикле перезаписываю переменную name. При вводе слова по-русски происходит замена элементов по ключу i. Что такое функция replace? В ней в круглых скобках на первом месте записывается \"что менять\", а на втором месте - \"на что менять\". Мы меняем \"что\" (исходный элемент во введенном слове по ключу из словаря) на \"что\" - на значение по ключу."
   ]
  },
  {
   "cell_type": "code",
   "execution_count": 7,
   "metadata": {
    "scrolled": true
   },
   "outputs": [
    {
     "name": "stdout",
     "output_type": "stream",
     "text": [
      "это наш транслитератор!\n",
      "eto nash transliterator!\n"
     ]
    }
   ],
   "source": [
    "name = input()\n",
    "d = {'а':'a','б':'b','в':'v','г':'g','д':'d','е':'e','ё':'yo',\n",
    "      'ж':'zh','з':'z','и':'i','й':'j','к':'k','л':'l','м':'m','н':'n',\n",
    "      'о':'o','п':'p','р':'r','с':'s','т':'t','у':'u','ф':'f','х':'h',\n",
    "      'ц':'c','ч':'ch','ш':'sh','щ':'shch','ъ':'','ы':'y','ь':'','э':'e',\n",
    "      'ю':'yu','я':'ya', 'А':'A','Б':'B','В':'V','Г':'G','Д':'D','Е':'E','Ё':'YO',\n",
    "      'Ж':'ZH','З':'Z','И':'I','Й':'I','К':'K','Л':'L','М':'M','Н':'N',\n",
    "      'О':'O','П':'P','Р':'R','С':'S','Т':'T','У':'U','Ф':'F','Х':'H',\n",
    "      'Ц':'C','Ч':'CH','Ш':'SH','Щ':'SHCH','Ъ':'','Ы':'y','Ь':'','Э':'E',\n",
    "      'Ю':'YU','Я':'YA'}\n",
    "for i in d:\n",
    "    name = name.replace(i, d[i])\n",
    "print(name)"
   ]
  }
 ],
 "metadata": {
  "colab": {
   "collapsed_sections": [
    "YPY75dCcrW7f",
    "LKlVNlBfjJHx",
    "zDDJ_qsdqvk-"
   ],
   "include_colab_link": true,
   "name": "python_30Oct_2019.ipynb",
   "provenance": []
  },
  "kernelspec": {
   "display_name": "Python 3",
   "language": "python",
   "name": "python3"
  },
  "language_info": {
   "codemirror_mode": {
    "name": "ipython",
    "version": 3
   },
   "file_extension": ".py",
   "mimetype": "text/x-python",
   "name": "python",
   "nbconvert_exporter": "python",
   "pygments_lexer": "ipython3",
   "version": "3.8.5"
  }
 },
 "nbformat": 4,
 "nbformat_minor": 1
}
