{
 "cells": [
  {
   "cell_type": "code",
   "execution_count": null,
   "metadata": {},
   "outputs": [],
   "source": [
    "# задание 1\n",
    "# какие из этих строк можно конкатенировать? Какие умножать? Какие вычитать? Запишите все результаты, которые у Вас получились\n",
    "a = 23\n",
    "b = 34.02\n",
    "c = \"python is cool, \"\n",
    "d = \"you are cool, too \""
   ]
  },
  {
   "cell_type": "code",
   "execution_count": null,
   "metadata": {},
   "outputs": [],
   "source": [
    "c+d"
   ]
  },
  {
   "cell_type": "code",
   "execution_count": null,
   "metadata": {},
   "outputs": [],
   "source": [
    "d+c"
   ]
  },
  {
   "cell_type": "code",
   "execution_count": null,
   "metadata": {},
   "outputs": [],
   "source": [
    "c*3 # можно умножать (дублировать) любую строку на число и она будет повторяться это количество раз"
   ]
  },
  {
   "cell_type": "code",
   "execution_count": null,
   "metadata": {},
   "outputs": [],
   "source": [
    "(c+d)*3 # умножение применимо и к \"сумме\" строк"
   ]
  },
  {
   "cell_type": "code",
   "execution_count": null,
   "metadata": {},
   "outputs": [],
   "source": [
    "# умножать можно числа и соответственно вычитать. числа нельзя коннатенировать, к ним можно применить сложение (не конкатенацию)\n",
    "a+b"
   ]
  },
  {
   "cell_type": "code",
   "execution_count": null,
   "metadata": {},
   "outputs": [],
   "source": [
    "a*b"
   ]
  },
  {
   "cell_type": "code",
   "execution_count": null,
   "metadata": {},
   "outputs": [],
   "source": [
    "a-b"
   ]
  },
  {
   "cell_type": "code",
   "execution_count": null,
   "metadata": {},
   "outputs": [],
   "source": [
    "# задание 2\n",
    "\"\"\"\n",
    "Придумайте такую строку (на любом знакомом Вам языке),чтобы она состояла из трех других (повторы строки разрешены).\n",
    "Напишите код. Если вы можете сделать это более, чем одним способом, напишите все способы\n",
    "\"\"\"\n",
    "x='i love python. '\n",
    "y= 'do you love python? '\n",
    "z= \"it's great\"\n",
    "my_str=x+y+z\n",
    "my_str"
   ]
  },
  {
   "cell_type": "code",
   "execution_count": null,
   "metadata": {},
   "outputs": [],
   "source": [
    "print('i love python. ', 'do you love python? ', \"it's great\")"
   ]
  },
  {
   "cell_type": "code",
   "execution_count": null,
   "metadata": {},
   "outputs": [],
   "source": [
    "any_str='i hate python '\n",
    "myy_str=any_str*3\n",
    "myy_str"
   ]
  },
  {
   "cell_type": "code",
   "execution_count": null,
   "metadata": {},
   "outputs": [],
   "source": [
    "any_str='i hate python '\n",
    "count=3\n",
    "result=any_str*count\n",
    "print(result)"
   ]
  },
  {
   "cell_type": "code",
   "execution_count": 2,
   "metadata": {},
   "outputs": [
    {
     "name": "stdout",
     "output_type": "stream",
     "text": [
      "спаниель\n"
     ]
    }
   ],
   "source": [
    "# задание 3\n",
    "\"\"\"\n",
    "Как из слова \"апельсин\" сделать слово \"спаниель\" ? \n",
    "Подсказка: вам помогут срезы и операции с индексами\n",
    "\"\"\"\n",
    "our_str='апельсин'\n",
    "a=our_str[5]\n",
    "b=our_str[1]\n",
    "c=our_str[0]\n",
    "d=our_str[-1]\n",
    "e=our_str[-2]\n",
    "f=our_str[2:5]\n",
    "new_str=a+b+c+d+e+f\n",
    "\n",
    "print(new_str)"
   ]
  },
  {
   "cell_type": "code",
   "execution_count": null,
   "metadata": {},
   "outputs": [],
   "source": [
    "# задание 4 (выполняется по желанию)\n",
    "\"\"\"элементы в переменной text преобразуйте в нижний регистр, а затем запишите наоборот, с последнего элемента по первый\"\"\"\n",
    "text = \"WOW,NOEL SEES LEON\""
   ]
  },
  {
   "cell_type": "code",
   "execution_count": null,
   "metadata": {},
   "outputs": [],
   "source": []
  }
 ],
 "metadata": {
  "kernelspec": {
   "display_name": "Python 3",
   "language": "python",
   "name": "python3"
  },
  "language_info": {
   "codemirror_mode": {
    "name": "ipython",
    "version": 3
   },
   "file_extension": ".py",
   "mimetype": "text/x-python",
   "name": "python",
   "nbconvert_exporter": "python",
   "pygments_lexer": "ipython3",
   "version": "3.8.5"
  }
 },
 "nbformat": 4,
 "nbformat_minor": 4
}
