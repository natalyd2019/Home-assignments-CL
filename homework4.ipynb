{
 "cells": [
  {
   "cell_type": "markdown",
   "metadata": {
    "colab_type": "text",
    "id": "ylixGHVOvAqB"
   },
   "source": [
    "## Homework4"
   ]
  },
  {
   "cell_type": "markdown",
   "metadata": {
    "colab_type": "text",
    "id": "WbpgWXdHvgV8"
   },
   "source": [
    "1.  генератор названий компаний (почти как генератор паролей)"
   ]
  },
  {
   "cell_type": "markdown",
   "metadata": {},
   "source": [
    "КАК:\n",
    "1. Создаем пустую переменную company - пустая строка\n",
    "2. используем функцию range, которая задает набор элементов - 6"
   ]
  },
  {
   "cell_type": "code",
   "execution_count": 1,
   "metadata": {
    "colab": {
     "base_uri": "https://localhost:8080/",
     "height": 34
    },
    "colab_type": "code",
    "id": "lIwa6cOqvcTs",
    "outputId": "9ab23b6b-f4ce-4597-ec6c-88c3f1d29ff8"
   },
   "outputs": [
    {
     "name": "stdout",
     "output_type": "stream",
     "text": [
      "нанороссельхозсельхозсеверметал\n"
     ]
    }
   ],
   "source": [
    "# генератор названий компаний\n",
    "\n",
    "import random\n",
    "\n",
    "names = [\"пром\",\"агро\",\"торг\",\"урал\",\"север\",\"юг\",\"техно\",\n",
    "\"экспо\",\"метал\",\"нефть\",\"сельхоз\",\"фарм\",\"строй\",\n",
    "\"кредит\",\"алмаз\",\"девелопмент\",\"развитие\",\"мос\",\n",
    "\"рос\",\"кубань\",\"сибирь\",\"восток\",\"нано\",\"софт\",\n",
    "\"микро\",\"онлайн\",\"инвест\",\"текстиль\",\"цемент\"]\n",
    "\n",
    "# Ваш код ниже\n",
    "company = ''\n",
    "for i in range(6):\n",
    "    company = company + random.choice(names)\n",
    "print(company) #пусть в ней будет 6 частей\n",
    "\n",
    "# запустите ячейку несклько раз"
   ]
  },
  {
   "cell_type": "markdown",
   "metadata": {
    "colab_type": "text",
    "id": "2yJufW6c1J2r"
   },
   "source": [
    "2. Транслитератор-2, более сложный\n",
    "\n",
    "Напишите программу, которая будет транситерировать текст (собака >> sobaka), но сделаем его сложнее, чем в прошлый раз\n",
    "\n",
    "Вам нужно: \n",
    "1. написать побуквенный транслитератор с кириллицы на латиницу(можно использовать написанный в прошлый раз)\n",
    "\n",
    "2. \"обернуть\" ваш код транслитератора в функцию. Опишите функцию: как она называется, что у нее за аргументы, что она возвращает на выходе)\n",
    "\n",
    "3. применить функцию к тексту (возьмите любой, на ваш выбор, длиной от 2 до 7 предложений. Хорошая идея - искать в статьях на Википедии)\n",
    "    \n",
    "3.1. чтобы работать с текстом, сохраните его в переменную"
   ]
  },
  {
   "cell_type": "code",
   "execution_count": 2,
   "metadata": {},
   "outputs": [],
   "source": [
    "def transliterate(text):\n",
    "    \n",
    "    \"\"\"У функции, которая называется transliterate - один аргумент - русский текст, на выходе - транслитерированный текст\"\"\"\n",
    "    \n",
    "    d = {'а':'a','б':'b','в':'v','г':'g','д':'d','е':'e','ё':'yo',\n",
    "      'ж':'zh','з':'z','и':'i','й':'j','к':'k','л':'l','м':'m','н':'n',\n",
    "      'о':'o','п':'p','р':'r','с':'s','т':'t','у':'u','ф':'f','х':'h',\n",
    "      'ц':'c','ч':'ch','ш':'sh','щ':'shch','ъ':'','ы':'y','ь':'','э':'e',\n",
    "      'ю':'yu','я':'ya', 'А':'A','Б':'B','В':'V','Г':'G','Д':'D','Е':'E','Ё':'YO',\n",
    "      'Ж':'ZH','З':'Z','И':'I','Й':'I','К':'K','Л':'L','М':'M','Н':'N',\n",
    "      'О':'O','П':'P','Р':'R','С':'S','Т':'T','У':'U','Ф':'F','Х':'H',\n",
    "      'Ц':'C','Ч':'CH','Ш':'SH','Щ':'SHCH','Ъ':'','Ы':'y','Ь':'','Э':'E',\n",
    "      'Ю':'YU','Я':'YA'}\n",
    "    for i in d:\n",
    "        text = text.replace(i, d[i])\n",
    "    return(text)"
   ]
  },
  {
   "cell_type": "code",
   "execution_count": 3,
   "metadata": {},
   "outputs": [],
   "source": [
    "wiki = '''Компьютерная лингвистика - научное направление в области математического и компьютерного моделирования \n",
    "интеллектуальных процессов у человека и животных при создании систем искусственного интеллекта, которое ставит \n",
    "своей целью использование  математических моделей для описания естественных языков. Компьютерная лингвистика частично \n",
    "пересекается с обработкой естественных языков. Однако в последней акцент делается не на абстрактные модели, а на прикладные \n",
    "методы описания и обработки языка для компьютерных систем. Полем деятельности компьютерных лингвистов является разработка \n",
    "алгоритмов и прикладных программ для обработки языковой информации'''"
   ]
  },
  {
   "cell_type": "code",
   "execution_count": 4,
   "metadata": {},
   "outputs": [
    {
     "name": "stdout",
     "output_type": "stream",
     "text": [
      "Kompyuternaya lingvistika - nauchnoe napravlenie v oblasti matematicheskogo i kompyuternogo modelirovaniya \n",
      "intellektualnyh processov u cheloveka i zhivotnyh pri sozdanii sistem iskusstvennogo intellekta, kotoroe stavit \n",
      "svoej celyu ispolzovanie  matematicheskih modelej dlya opisaniya estestvennyh yazykov. Kompyuternaya lingvistika chastichno \n",
      "peresekaetsya s obrabotkoj estestvennyh yazykov. Odnako v poslednej akcent delaetsya ne na abstraktnye modeli, a na prikladnye \n",
      "metody opisaniya i obrabotki yazyka dlya kompyuternyh sistem. Polem deyatelnosti kompyuternyh lingvistov yavlyaetsya razrabotka \n",
      "algoritmov i prikladnyh programm dlya obrabotki yazykovoj informacii\n"
     ]
    }
   ],
   "source": [
    "print(transliterate (wiki))"
   ]
  }
 ],
 "metadata": {
  "colab": {
   "collapsed_sections": [],
   "include_colab_link": true,
   "name": "Sat_02Nov_19.ipynb",
   "provenance": []
  },
  "kernelspec": {
   "display_name": "Python 3",
   "language": "python",
   "name": "python3"
  },
  "language_info": {
   "codemirror_mode": {
    "name": "ipython",
    "version": 3
   },
   "file_extension": ".py",
   "mimetype": "text/x-python",
   "name": "python",
   "nbconvert_exporter": "python",
   "pygments_lexer": "ipython3",
   "version": "3.8.5"
  }
 },
 "nbformat": 4,
 "nbformat_minor": 1
}
