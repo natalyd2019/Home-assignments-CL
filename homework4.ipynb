{
 "cells": [
  {
   "cell_type": "markdown",
   "metadata": {
    "colab_type": "text",
    "id": "ylixGHVOvAqB"
   },
   "source": [
    "## Classwork"
   ]
  },
  {
   "cell_type": "markdown",
   "metadata": {
    "colab_type": "text",
    "id": "WbpgWXdHvgV8"
   },
   "source": [
    "1.  генератор названий компаний (почти как генератор паролей)"
   ]
  },
  {
   "cell_type": "code",
   "execution_count": null,
   "metadata": {
    "colab": {
     "base_uri": "https://localhost:8080/",
     "height": 34
    },
    "colab_type": "code",
    "id": "lIwa6cOqvcTs",
    "outputId": "9ab23b6b-f4ce-4597-ec6c-88c3f1d29ff8"
   },
   "outputs": [],
   "source": [
    "# генератор названий компаний\n",
    "\n",
    "import random\n",
    "\n",
    "names = [\"пром\",\"агро\",\"торг\",\"урал\",\"север\",\"юг\",\"техно\",\n",
    "\"экспо\",\"метал\",\"нефть\",\"сельхоз\",\"фарм\",\"строй\",\n",
    "\"кредит\",\"алмаз\",\"-девелопмент\",\"развитие\",\"мос\",\n",
    "\"рос\",\"кубань\",\"сибирь\",\"восток\",\"нано\",\"софт\",\n",
    "\"микро\",\"онлайн\",\"инвест\",\"текстиль\",\"цемент\"]\n",
    "\n",
    "# Ваш код ниже\n",
    "\n",
    "\n",
    "\n",
    "print(company) #пусть в ней будет 6 частей\n",
    "\n",
    "# запустите ячейку несклько раз"
   ]
  },
  {
   "cell_type": "markdown",
   "metadata": {
    "colab_type": "text",
    "id": "2yJufW6c1J2r"
   },
   "source": [
    "2. Транслитератор-2, более сложный\n",
    "\n",
    "Напишите программу, которая будет транситерировать текст (собака >> sobaka), но сделаем его сложнее, чем в прошлый раз\n",
    "\n",
    "Вам нужно: \n",
    "1. написать побуквенный транслитератор с кириллицы на латиницу(можно использовать написанный в прошлый раз)\n",
    "\n",
    "2. \"обернуть\" ваш код транслитератора в функцию\n",
    "\n",
    "3. применить функцию к тексту (возьмите любой, на ваш выбор, длиной от 2 до 7 предложений. Хорошая идея - искать в статьях на Википедии)\n",
    "    \n",
    "    3.1. чтобы работать с текстом, сохраните его в переменную\n",
    "\n"
   ]
  },
  {
   "cell_type": "code",
   "execution_count": null,
   "metadata": {
    "colab": {},
    "colab_type": "code",
    "id": "OY3JW9ZpwAkS"
   },
   "outputs": [],
   "source": [
    "# Ваш код здесь:\n",
    "\n"
   ]
  },
  {
   "cell_type": "code",
   "execution_count": null,
   "metadata": {
    "colab": {},
    "colab_type": "code",
    "id": "Mm3FYaIJ99GJ"
   },
   "outputs": [],
   "source": []
  }
 ],
 "metadata": {
  "colab": {
   "collapsed_sections": [],
   "include_colab_link": true,
   "name": "Sat_02Nov_19.ipynb",
   "provenance": []
  },
  "kernelspec": {
   "display_name": "Python 3",
   "language": "python",
   "name": "python3"
  },
  "language_info": {
   "codemirror_mode": {
    "name": "ipython",
    "version": 3
   },
   "file_extension": ".py",
   "mimetype": "text/x-python",
   "name": "python",
   "nbconvert_exporter": "python",
   "pygments_lexer": "ipython3",
   "version": "3.8.5"
  }
 },
 "nbformat": 4,
 "nbformat_minor": 1
}
